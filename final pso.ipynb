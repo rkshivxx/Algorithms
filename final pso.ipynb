{
 "cells": [
  {
   "cell_type": "code",
   "execution_count": 1,
   "id": "ed3d04d4",
   "metadata": {},
   "outputs": [],
   "source": [
    "import tensorflow as tf\n",
    "from tensorflow import keras\n",
    "import pandas as pd"
   ]
  },
  {
   "cell_type": "code",
   "execution_count": 2,
   "id": "f6c7055e",
   "metadata": {},
   "outputs": [],
   "source": [
    "model= keras.Sequential(\n",
    "    [\n",
    "     keras.layers.Dense(8,activation=\"relu\",input_shape=[11]),\n",
    "     keras.layers.Dense(4,activation=\"relu\"),\n",
    "     keras.layers.Dense(1,activation=\"sigmoid\")\n",
    "    ]\n",
    "\n",
    ")"
   ]
  },
  {
   "cell_type": "code",
   "execution_count": 3,
   "id": "30cc8a84",
   "metadata": {},
   "outputs": [],
   "source": [
    "opt = keras.optimizers.Adam(learning_rate=0.006)\n",
    "model.compile(optimizer=opt,loss=\"binary_crossentropy\",metrics=[\"accuracy\",tf.keras.metrics.Precision(),tf.keras.metrics.Recall()])"
   ]
  },
  {
   "cell_type": "code",
   "execution_count": 4,
   "id": "cbd11294",
   "metadata": {},
   "outputs": [],
   "source": [
    "df=pd.read_csv(\"Bank_Personal_Loan_Modelling.csv\")"
   ]
  },
  {
   "cell_type": "code",
   "execution_count": 5,
   "id": "7f4621b5",
   "metadata": {},
   "outputs": [],
   "source": [
    "df.drop([\"ID\", \"ZIP Code\"],axis=1,inplace=True)"
   ]
  },
  {
   "cell_type": "code",
   "execution_count": 6,
   "id": "528df9b2",
   "metadata": {},
   "outputs": [
    {
     "name": "stdout",
     "output_type": "stream",
     "text": [
      "<class 'pandas.core.frame.DataFrame'>\n",
      "RangeIndex: 5000 entries, 0 to 4999\n",
      "Data columns (total 12 columns):\n",
      " #   Column              Non-Null Count  Dtype  \n",
      "---  ------              --------------  -----  \n",
      " 0   Age                 5000 non-null   int64  \n",
      " 1   Experience          5000 non-null   int64  \n",
      " 2   Income              5000 non-null   int64  \n",
      " 3   Family              5000 non-null   int64  \n",
      " 4   CCAvg               5000 non-null   float64\n",
      " 5   Education           5000 non-null   int64  \n",
      " 6   Mortgage            5000 non-null   int64  \n",
      " 7   Personal Loan       5000 non-null   int64  \n",
      " 8   Securities Account  5000 non-null   int64  \n",
      " 9   CD Account          5000 non-null   int64  \n",
      " 10  Online              5000 non-null   int64  \n",
      " 11  CreditCard          5000 non-null   int64  \n",
      "dtypes: float64(1), int64(11)\n",
      "memory usage: 468.9 KB\n"
     ]
    }
   ],
   "source": [
    "df.info()"
   ]
  },
  {
   "cell_type": "code",
   "execution_count": 7,
   "id": "50165019",
   "metadata": {},
   "outputs": [],
   "source": [
    "df = df[['Age', 'Experience', 'Income', 'Family', 'CCAvg','Education', 'Mortgage', 'Securities Account','CD Account', 'Online', 'CreditCard', 'Personal Loan']]"
   ]
  },
  {
   "cell_type": "code",
   "execution_count": 8,
   "id": "c1aceb9f",
   "metadata": {},
   "outputs": [],
   "source": [
    "x = df.iloc[:,:-1].values\n",
    "y = df.iloc[:,-1].values"
   ]
  },
  {
   "cell_type": "code",
   "execution_count": 9,
   "id": "35b30592",
   "metadata": {},
   "outputs": [],
   "source": [
    "from sklearn.model_selection import train_test_split\n",
    "\n",
    "x_train,x_test,y_train,y_test = train_test_split(x,y,test_size=0.25,random_state=69)"
   ]
  },
  {
   "cell_type": "code",
   "execution_count": 10,
   "id": "eff52587",
   "metadata": {},
   "outputs": [],
   "source": [
    "from sklearn.preprocessing import StandardScaler\n",
    "\n",
    "sc = StandardScaler()\n",
    "x_train = sc.fit_transform(x_train)\n",
    "x_test = sc.transform(x_test)"
   ]
  },
  {
   "cell_type": "code",
   "execution_count": 11,
   "id": "0da93b8e",
   "metadata": {},
   "outputs": [
    {
     "data": {
      "text/plain": [
       "((3750, 11), (3750,))"
      ]
     },
     "execution_count": 11,
     "metadata": {},
     "output_type": "execute_result"
    }
   ],
   "source": [
    "x_train.shape, y_train.shape"
   ]
  },
  {
   "cell_type": "code",
   "execution_count": 12,
   "id": "333f1006",
   "metadata": {},
   "outputs": [
    {
     "name": "stdout",
     "output_type": "stream",
     "text": [
      "Epoch 1/20\n",
      "59/59 [==============================] - 1s 1ms/step - loss: 0.4264 - accuracy: 0.8629 - precision: 0.2789 - recall: 0.2575\n",
      "Epoch 2/20\n",
      "59/59 [==============================] - 0s 1ms/step - loss: 0.1834 - accuracy: 0.9333 - precision: 0.7833 - recall: 0.4356   \n",
      "Epoch 3/20\n",
      "59/59 [==============================] - 0s 1ms/step - loss: 0.1288 - accuracy: 0.9536 - precision: 0.8498 - recall: 0.6356\n",
      "Epoch 4/20\n",
      "59/59 [==============================] - 0s 1ms/step - loss: 0.0998 - accuracy: 0.9643 - precision: 0.8942 - recall: 0.7178\n",
      "Epoch 5/20\n",
      "59/59 [==============================] - 0s 1ms/step - loss: 0.0861 - accuracy: 0.9704 - precision: 0.9150 - recall: 0.7671\n",
      "Epoch 6/20\n",
      "59/59 [==============================] - 0s 1ms/step - loss: 0.0782 - accuracy: 0.9715 - precision: 0.9006 - recall: 0.7945\n",
      "Epoch 7/20\n",
      "59/59 [==============================] - 0s 1ms/step - loss: 0.0752 - accuracy: 0.9717 - precision: 0.9085 - recall: 0.7890\n",
      "Epoch 8/20\n",
      "59/59 [==============================] - 0s 1ms/step - loss: 0.0694 - accuracy: 0.9760 - precision: 0.9283 - recall: 0.8164\n",
      "Epoch 9/20\n",
      "59/59 [==============================] - 0s 1ms/step - loss: 0.0660 - accuracy: 0.9763 - precision: 0.9259 - recall: 0.8219\n",
      "Epoch 10/20\n",
      "59/59 [==============================] - 0s 1ms/step - loss: 0.0643 - accuracy: 0.9776 - precision: 0.9169 - recall: 0.8466\n",
      "Epoch 11/20\n",
      "59/59 [==============================] - 0s 1ms/step - loss: 0.0622 - accuracy: 0.9781 - precision: 0.9249 - recall: 0.8438\n",
      "Epoch 12/20\n",
      "59/59 [==============================] - 0s 1ms/step - loss: 0.0610 - accuracy: 0.9787 - precision: 0.9305 - recall: 0.8438\n",
      "Epoch 13/20\n",
      "59/59 [==============================] - 0s 1ms/step - loss: 0.0605 - accuracy: 0.9787 - precision: 0.9228 - recall: 0.8521\n",
      "Epoch 14/20\n",
      "59/59 [==============================] - 0s 1ms/step - loss: 0.0574 - accuracy: 0.9811 - precision: 0.9349 - recall: 0.8658\n",
      "Epoch 15/20\n",
      "59/59 [==============================] - 0s 1ms/step - loss: 0.0564 - accuracy: 0.9805 - precision: 0.9371 - recall: 0.8575\n",
      "Epoch 16/20\n",
      "59/59 [==============================] - 0s 1ms/step - loss: 0.0554 - accuracy: 0.9816 - precision: 0.9379 - recall: 0.8685\n",
      "Epoch 17/20\n",
      "59/59 [==============================] - 0s 1ms/step - loss: 0.0554 - accuracy: 0.9821 - precision: 0.9282 - recall: 0.8849\n",
      "Epoch 18/20\n",
      "59/59 [==============================] - 0s 1ms/step - loss: 0.0538 - accuracy: 0.9795 - precision: 0.9260 - recall: 0.8575\n",
      "Epoch 19/20\n",
      "59/59 [==============================] - 0s 1ms/step - loss: 0.0520 - accuracy: 0.9816 - precision: 0.9458 - recall: 0.8603\n",
      "Epoch 20/20\n",
      "59/59 [==============================] - 0s 1ms/step - loss: 0.0529 - accuracy: 0.9819 - precision: 0.9407 - recall: 0.8685\n"
     ]
    },
    {
     "data": {
      "text/plain": [
       "<keras.callbacks.History at 0x1380d5a15e0>"
      ]
     },
     "execution_count": 12,
     "metadata": {},
     "output_type": "execute_result"
    }
   ],
   "source": [
    "model.fit(x_train,y_train,epochs=20,batch_size=64)"
   ]
  },
  {
   "cell_type": "code",
   "execution_count": 13,
   "id": "945fb934",
   "metadata": {},
   "outputs": [
    {
     "name": "stdout",
     "output_type": "stream",
     "text": [
      "40/40 [==============================] - 0s 981us/step - loss: 0.0600 - accuracy: 0.9752 - precision: 0.8962 - recall: 0.8261\n"
     ]
    },
    {
     "data": {
      "text/plain": [
       "[0.06001906096935272,\n",
       " 0.9751999974250793,\n",
       " 0.8962264060974121,\n",
       " 0.8260869383811951]"
      ]
     },
     "execution_count": 13,
     "metadata": {},
     "output_type": "execute_result"
    }
   ],
   "source": [
    "model.evaluate(x_test,y_test)"
   ]
  },
  {
   "cell_type": "markdown",
   "id": "7c770459",
   "metadata": {},
   "source": [
    "#PSO"
   ]
  },
  {
   "cell_type": "code",
   "execution_count": 14,
   "id": "a9f9863d",
   "metadata": {},
   "outputs": [],
   "source": [
    "import random\n",
    "import math\n",
    "import numpy as np"
   ]
  },
  {
   "cell_type": "code",
   "execution_count": 26,
   "id": "f99658f7",
   "metadata": {},
   "outputs": [],
   "source": [
    "num_particles = 10\n",
    "weights_size = model.count_params()"
   ]
  },
  {
   "cell_type": "code",
   "execution_count": 27,
   "id": "372decd7",
   "metadata": {},
   "outputs": [],
   "source": [
    "def get_shape(model):\n",
    "    weights_layer = model.get_weights()\n",
    "    shapes = []\n",
    "    for weights in weights_layer:\n",
    "        shapes.append(weights.shape)\n",
    "    return shapes\n",
    "shape=get_shape(model)\n",
    "def set_shape(weights,shapes):\n",
    "    new_weights = []\n",
    "    index=0\n",
    "    for shape in shapes:\n",
    "        if(len(shape)>1):\n",
    "            n_nodes = np.prod(shape)+index\n",
    "        else:\n",
    "            n_nodes=shape[0]+index\n",
    "        tmp = np.array(weights[index:n_nodes]).reshape(shape)\n",
    "        new_weights.append(tmp)\n",
    "        index=n_nodes\n",
    "    return new_weights\n"
   ]
  },
  {
   "cell_type": "code",
   "execution_count": 32,
   "id": "2ef5fed5",
   "metadata": {},
   "outputs": [],
   "source": [
    "class Particle:\n",
    "    def __init__(self):\n",
    "        self.position = None\n",
    "        self.velocity = None\n",
    "        self.best_position = None\n",
    "        self.best_fitness = np.inf\n",
    "    def update_velocity(self, global_best_position, omega=0.5, phi_p=0.5, phi_g=0.5):\n",
    "        r_p = np.random.rand(weights_size)\n",
    "        r_g = np.random.rand(weights_size)\n",
    "        self.velocity = omega*self.velocity + phi_p*r_p*(self.best_position - self.position) + phi_g*r_g*(global_best_position - self.position)\n",
    "        \n",
    "    def update_position(self):\n",
    "        self.position = self.position + self.velocity\n",
    "        self.position = np.clip(self.position, -1.0, 1.0)\n",
    "        \n",
    "def fitness_function(weights):\n",
    "    model.set_weights(set_shape(weights,shape))\n",
    "    model.fit(x_train, y_train, epochs=10,verbose=0)\n",
    "    score = model.evaluate(x_test, y_test)\n",
    "    return score[1]"
   ]
  },
  {
   "cell_type": "code",
   "execution_count": 33,
   "id": "db7192ce",
   "metadata": {},
   "outputs": [],
   "source": [
    "particles = [Particle() for _ in range(num_particles)]"
   ]
  },
  {
   "cell_type": "code",
   "execution_count": 36,
   "id": "6d9d2995",
   "metadata": {},
   "outputs": [
    {
     "name": "stdout",
     "output_type": "stream",
     "text": [
      "40/40 [==============================] - 0s 1ms/step - loss: 0.0686 - accuracy: 0.9768 - precision: 0.9057 - recall: 0.8348\n",
      "40/40 [==============================] - 0s 1ms/step - loss: 0.0755 - accuracy: 0.9744 - precision: 0.8879 - recall: 0.8261\n",
      "40/40 [==============================] - 0s 1ms/step - loss: 0.0597 - accuracy: 0.9800 - precision: 0.9500 - recall: 0.8261\n",
      "40/40 [==============================] - 0s 1ms/step - loss: 0.0720 - accuracy: 0.9712 - precision: 0.8319 - recall: 0.8609\n",
      "40/40 [==============================] - 0s 1ms/step - loss: 0.0713 - accuracy: 0.9752 - precision: 0.9038 - recall: 0.8174\n",
      "40/40 [==============================] - 0s 1ms/step - loss: 0.0829 - accuracy: 0.9752 - precision: 0.8818 - recall: 0.8435\n",
      "40/40 [==============================] - 0s 1ms/step - loss: 0.0682 - accuracy: 0.9736 - precision: 0.8796 - recall: 0.8261\n",
      "40/40 [==============================] - 0s 1ms/step - loss: 0.0583 - accuracy: 0.9776 - precision: 0.9223 - recall: 0.8261\n",
      "40/40 [==============================] - 0s 1ms/step - loss: 0.0738 - accuracy: 0.9728 - precision: 0.8403 - recall: 0.8696\n",
      "40/40 [==============================] - 0s 1ms/step - loss: 0.0713 - accuracy: 0.9744 - precision: 0.8807 - recall: 0.8348\n",
      "40/40 [==============================] - 0s 1ms/step - loss: 0.0622 - accuracy: 0.9744 - precision: 0.8879 - recall: 0.8261\n",
      "40/40 [==============================] - 0s 1ms/step - loss: 0.5175 - accuracy: 0.7096 - precision: 0.1575 - recall: 0.4957\n",
      "Final accuracy 0.7095999717712402\n"
     ]
    }
   ],
   "source": [
    "\n",
    "for particle in particles:\n",
    "    particle.position = np.random.uniform(low=-1.0, high=1.0, size=weights_size)\n",
    "    particle.velocity = np.zeros(weights_size)\n",
    "    particle.best_position = particle.position.copy()\n",
    "    particle.best_fitness = np.inf\n",
    "\n",
    "global_best_position = particles[0].position.copy()\n",
    "global_best_fitness = fitness_function(global_best_position)\n",
    "\n",
    "for i in range(1):\n",
    "    for particle in particles:\n",
    "        particle.update_velocity(global_best_position)\n",
    "        particle.update_position()\n",
    "        fitness = fitness_function(particle.position)\n",
    "        if fitness < particle.best_fitness:\n",
    "            particle.best_fitness = fitness\n",
    "            particle.best_position = particle.position.copy()\n",
    "        if fitness < global_best_fitness:\n",
    "            global_best_fitness = fitness\n",
    "            global_best_position = particle.position.copy()\n",
    "\n",
    "model.set_weights(set_shape(global_best_position,shape))\n",
    "score = model.evaluate(x_test, y_test)\n",
    "print(\"Final accuracy\",score[1])"
   ]
  },
  {
   "cell_type": "code",
   "execution_count": null,
   "id": "02697b67",
   "metadata": {},
   "outputs": [],
   "source": []
  },
  {
   "cell_type": "code",
   "execution_count": null,
   "id": "526ddc4c",
   "metadata": {},
   "outputs": [],
   "source": []
  }
 ],
 "metadata": {
  "kernelspec": {
   "display_name": "Python 3 (ipykernel)",
   "language": "python",
   "name": "python3"
  },
  "language_info": {
   "codemirror_mode": {
    "name": "ipython",
    "version": 3
   },
   "file_extension": ".py",
   "mimetype": "text/x-python",
   "name": "python",
   "nbconvert_exporter": "python",
   "pygments_lexer": "ipython3",
   "version": "3.9.13"
  }
 },
 "nbformat": 4,
 "nbformat_minor": 5
}
